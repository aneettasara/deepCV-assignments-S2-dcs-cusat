{
  "nbformat": 4,
  "nbformat_minor": 0,
  "metadata": {
    "colab": {
      "provenance": [],
      "gpuType": "T4"
    },
    "kernelspec": {
      "name": "python3",
      "display_name": "Python 3"
    },
    "language_info": {
      "name": "python"
    },
    "accelerator": "GPU",
    "gpuClass": "standard"
  },
  "cells": [
    {
      "cell_type": "markdown",
      "source": [
        "#Implement CNN for classifying an apple's image kept in any 1 of 4 quadrants."
      ],
      "metadata": {
        "id": "3QIAE8YmrrrP"
      }
    },
    {
      "cell_type": "code",
      "execution_count": 1,
      "metadata": {
        "id": "1dqBwGVfrZep",
        "colab": {
          "base_uri": "https://localhost:8080/"
        },
        "outputId": "e1ca6659-2ba9-4dec-9615-6814033b9b0f"
      },
      "outputs": [
        {
          "output_type": "stream",
          "name": "stdout",
          "text": [
            "Mounted at /content/drive/\n"
          ]
        }
      ],
      "source": [
        "# To fetch Dataset\n",
        "from google.colab import drive\n",
        "drive.mount('/content/drive/')\n"
      ]
    },
    {
      "cell_type": "code",
      "source": [
        "# Import required Libraries\n",
        "import tensorflow as tf\n",
        "from tensorflow.keras.preprocessing.image import ImageDataGenerator\n",
        "from tensorflow.keras.applications import VGG16\n",
        "from tensorflow.keras.layers import Dense, Flatten\n",
        "from tensorflow.keras.models import Model\n"
      ],
      "metadata": {
        "id": "lqBr9Z8PzFZa"
      },
      "execution_count": 2,
      "outputs": []
    },
    {
      "cell_type": "code",
      "source": [
        "# Define Path\n",
        "train_dir = '/content/drive/MyDrive/cusat-dcs-files/sem-2/deeplearning-cv/assignment/Aneetta_DeepCV_Assignment_05_Apple_CNN_Classifier/custom-generated-apple-dataset/train'\n",
        "test_dir = '/content/drive/MyDrive/cusat-dcs-files/sem-2/deeplearning-cv/assignment/Aneetta_DeepCV_Assignment_05_Apple_CNN_Classifier/custom-generated-apple-dataset/test'\n",
        "\n",
        "# Number of samples processed before the model is trained\n",
        "batch_size = 32\n",
        "\n",
        "# Image Size for VGG16 model\n",
        "image_size = (224, 224)\n"
      ],
      "metadata": {
        "id": "euNE-LgozVmr"
      },
      "execution_count": 3,
      "outputs": []
    },
    {
      "cell_type": "code",
      "source": [
        "# Use ImageDataGenerator to augment the training data with random transformations\n",
        "train_datagen = ImageDataGenerator(\n",
        "    rescale=1./255,\n",
        "    rotation_range=20,\n",
        "    width_shift_range=0.2,\n",
        "    height_shift_range=0.2,\n",
        "    shear_range=0.2,\n",
        "    zoom_range=0.2,\n",
        "    fill_mode='nearest'\n",
        ")\n",
        "\n",
        "test_datagen = ImageDataGenerator(rescale=1./255)\n"
      ],
      "metadata": {
        "id": "C5ewklkT0IXL"
      },
      "execution_count": 4,
      "outputs": []
    },
    {
      "cell_type": "code",
      "source": [
        "# Load the training data and apply data augmentation\n",
        "train_data = train_datagen.flow_from_directory(\n",
        "    train_dir,\n",
        "    target_size=image_size,\n",
        "    batch_size=batch_size,\n",
        "    class_mode='categorical'\n",
        ")\n",
        "\n",
        "# Load the testing data (no data augmentation)\n",
        "test_data = test_datagen.flow_from_directory(\n",
        "    test_dir,\n",
        "    target_size=image_size,\n",
        "    batch_size=batch_size,\n",
        "    class_mode='categorical'\n",
        ")\n"
      ],
      "metadata": {
        "colab": {
          "base_uri": "https://localhost:8080/"
        },
        "id": "NMP_ONqw0nXF",
        "outputId": "f82a3917-505b-4ca4-f766-5ef31b2f2de1"
      },
      "execution_count": 5,
      "outputs": [
        {
          "output_type": "stream",
          "name": "stdout",
          "text": [
            "Found 732 images belonging to 4 classes.\n",
            "Found 84 images belonging to 4 classes.\n"
          ]
        }
      ]
    },
    {
      "cell_type": "code",
      "source": [
        "# Load the VGG16 model pre-trained on ImageNet (without the top layer)\n",
        "base_model = VGG16(weights='imagenet', include_top=False, input_shape=image_size+(3,))\n",
        "\n",
        "# Freeze the pre-trained layers of the VGG16 model\n",
        "for layer in base_model.layers:\n",
        "    layer.trainable = False\n",
        "\n",
        "# Add a custom top layer to the model for 4 class classification\n",
        "x = Flatten()(base_model.output)\n",
        "x = Dense(128, activation='relu')(x)\n",
        "predictions = Dense(4, activation='softmax')(x)\n",
        "\n",
        "# Build the final model by combining the pre-trained VGG16 base model with the custom top layer\n",
        "model = Model(inputs=base_model.input, outputs=predictions)\n",
        "\n",
        "# Compile the model with categorical crossentropy loss and Adam optimizer\n",
        "model.compile(loss='categorical_crossentropy', optimizer='adam', metrics=['accuracy'])\n",
        "\n",
        "# Model Trained\n",
        "history = model.fit(train_data, epochs=20, validation_data=test_data, workers=4)\n"
      ],
      "metadata": {
        "colab": {
          "base_uri": "https://localhost:8080/"
        },
        "id": "jnzkM6ft0_V9",
        "outputId": "4ead1330-53f1-4c7a-c6f9-abd513573285"
      },
      "execution_count": 6,
      "outputs": [
        {
          "output_type": "stream",
          "name": "stdout",
          "text": [
            "Downloading data from https://storage.googleapis.com/tensorflow/keras-applications/vgg16/vgg16_weights_tf_dim_ordering_tf_kernels_notop.h5\n",
            "58889256/58889256 [==============================] - 4s 0us/step\n",
            "Epoch 1/20\n",
            "23/23 [==============================] - 169s 6s/step - loss: 0.7529 - accuracy: 0.7842 - val_loss: 0.0047 - val_accuracy: 1.0000\n",
            "Epoch 2/20\n",
            "23/23 [==============================] - 19s 744ms/step - loss: 0.1472 - accuracy: 0.9467 - val_loss: 0.0014 - val_accuracy: 1.0000\n",
            "Epoch 3/20\n",
            "23/23 [==============================] - 20s 755ms/step - loss: 0.1654 - accuracy: 0.9426 - val_loss: 8.2036e-04 - val_accuracy: 1.0000\n",
            "Epoch 4/20\n",
            "23/23 [==============================] - 21s 767ms/step - loss: 0.1750 - accuracy: 0.9344 - val_loss: 5.4083e-04 - val_accuracy: 1.0000\n",
            "Epoch 5/20\n",
            "23/23 [==============================] - 22s 738ms/step - loss: 0.1431 - accuracy: 0.9331 - val_loss: 0.0010 - val_accuracy: 1.0000\n",
            "Epoch 6/20\n",
            "23/23 [==============================] - 20s 764ms/step - loss: 0.1429 - accuracy: 0.9508 - val_loss: 7.6431e-04 - val_accuracy: 1.0000\n",
            "Epoch 7/20\n",
            "23/23 [==============================] - 21s 755ms/step - loss: 0.1447 - accuracy: 0.9467 - val_loss: 6.4067e-04 - val_accuracy: 1.0000\n",
            "Epoch 8/20\n",
            "23/23 [==============================] - 22s 742ms/step - loss: 0.1645 - accuracy: 0.9358 - val_loss: 8.8134e-04 - val_accuracy: 1.0000\n",
            "Epoch 9/20\n",
            "23/23 [==============================] - 20s 742ms/step - loss: 0.1489 - accuracy: 0.9413 - val_loss: 9.3517e-04 - val_accuracy: 1.0000\n",
            "Epoch 10/20\n",
            "23/23 [==============================] - 20s 732ms/step - loss: 0.1520 - accuracy: 0.9454 - val_loss: 8.3109e-04 - val_accuracy: 1.0000\n",
            "Epoch 11/20\n",
            "23/23 [==============================] - 21s 756ms/step - loss: 0.1707 - accuracy: 0.9235 - val_loss: 6.9726e-04 - val_accuracy: 1.0000\n",
            "Epoch 12/20\n",
            "23/23 [==============================] - 20s 749ms/step - loss: 0.1327 - accuracy: 0.9467 - val_loss: 3.3803e-04 - val_accuracy: 1.0000\n",
            "Epoch 13/20\n",
            "23/23 [==============================] - 20s 743ms/step - loss: 0.1525 - accuracy: 0.9372 - val_loss: 3.7836e-04 - val_accuracy: 1.0000\n",
            "Epoch 14/20\n",
            "23/23 [==============================] - 21s 771ms/step - loss: 0.1255 - accuracy: 0.9522 - val_loss: 3.4629e-04 - val_accuracy: 1.0000\n",
            "Epoch 15/20\n",
            "23/23 [==============================] - 20s 779ms/step - loss: 0.1519 - accuracy: 0.9426 - val_loss: 4.9877e-04 - val_accuracy: 1.0000\n",
            "Epoch 16/20\n",
            "23/23 [==============================] - 20s 738ms/step - loss: 0.1196 - accuracy: 0.9549 - val_loss: 2.4086e-04 - val_accuracy: 1.0000\n",
            "Epoch 17/20\n",
            "23/23 [==============================] - 22s 794ms/step - loss: 0.2137 - accuracy: 0.9303 - val_loss: 0.0022 - val_accuracy: 1.0000\n",
            "Epoch 18/20\n",
            "23/23 [==============================] - 20s 799ms/step - loss: 0.1569 - accuracy: 0.9331 - val_loss: 0.0013 - val_accuracy: 1.0000\n",
            "Epoch 19/20\n",
            "23/23 [==============================] - 20s 733ms/step - loss: 0.1342 - accuracy: 0.9522 - val_loss: 4.5424e-04 - val_accuracy: 1.0000\n",
            "Epoch 20/20\n",
            "23/23 [==============================] - 21s 817ms/step - loss: 0.1294 - accuracy: 0.9481 - val_loss: 5.1317e-04 - val_accuracy: 1.0000\n"
          ]
        }
      ]
    },
    {
      "cell_type": "code",
      "source": [
        "# Evaluate the trained model on the testing data\n",
        "test_loss, test_acc = model.evaluate(test_data)\n",
        "print('Test accuracy:', test_acc)\n"
      ],
      "metadata": {
        "colab": {
          "base_uri": "https://localhost:8080/"
        },
        "id": "KMu-hkfX1uIk",
        "outputId": "13d8450e-1948-49dd-ee82-50be75f32e81"
      },
      "execution_count": 7,
      "outputs": [
        {
          "output_type": "stream",
          "name": "stdout",
          "text": [
            "3/3 [==============================] - 1s 306ms/step - loss: 5.1317e-04 - accuracy: 1.0000\n",
            "Test accuracy: 1.0\n"
          ]
        }
      ]
    },
    {
      "cell_type": "code",
      "source": [
        "# Plot the training and validation accuracy as a line\n",
        "import matplotlib.pyplot as plt\n",
        "\n",
        "training_accuracy = history.history['accuracy']\n",
        "validation_accuracy = history.history['val_accuracy']\n",
        "\n",
        "epochs = range(1, len(training_accuracy) + 1)\n",
        "plt.plot(epochs, training_accuracy, 'bo-', label='Training accuracy')\n",
        "plt.plot(epochs, validation_accuracy, 'b-', label='Validation accuracy')\n",
        "plt.title('Training and validation accuracy')\n",
        "plt.xlabel('Epochs')\n",
        "plt.ylabel('Accuracy')\n",
        "plt.legend()\n",
        "plt.show()\n"
      ],
      "metadata": {
        "colab": {
          "base_uri": "https://localhost:8080/",
          "height": 472
        },
        "id": "EgLheQCp15wW",
        "outputId": "d322978d-d5d8-45ee-fcf8-6d748d3bbbac"
      },
      "execution_count": 8,
      "outputs": [
        {
          "output_type": "display_data",
          "data": {
            "text/plain": [
              "<Figure size 640x480 with 1 Axes>"
            ],
            "image/png": "[encoded data removed]"
          },
          "metadata": {}
        }
      ]
    },
    {
      "cell_type": "markdown",
      "source": [
        "Model Testing on unseen data"
      ],
      "metadata": {
        "id": "WpuUlnCk3AkK"
      }
    },
    {
      "cell_type": "code",
      "source": [
        "# Classes of Apples in quadrants \n",
        "train_data.class_indices\n"
      ],
      "metadata": {
        "colab": {
          "base_uri": "https://localhost:8080/"
        },
        "id": "hsgjPKcT2Hgi",
        "outputId": "8477455e-df30-4c27-8710-3262075417f0"
      },
      "execution_count": 9,
      "outputs": [
        {
          "output_type": "execute_result",
          "data": {
            "text/plain": [
              "{'bottom-left': 0, 'bottom-right': 1, 'top-left': 2, 'top-right': 3}"
            ]
          },
          "metadata": {},
          "execution_count": 9
        }
      ]
    },
    {
      "cell_type": "code",
      "source": [
        "import numpy as np\n",
        "from tensorflow.keras.preprocessing.image import load_img, img_to_array\n",
        "\n",
        "img_path = '/content/drive/MyDrive/cusat-dcs-files/sem-2/deeplearning-cv/assignment/Aneetta_DeepCV_Assignment_05_Apple_CNN_Classifier/custom-generated-apple-dataset/unseen-data.png'\n",
        "img = load_img(img_path, target_size=(224, 224))\n",
        "x = img_to_array(img)\n",
        "x = np.expand_dims(x, axis=0)\n",
        "x = x / 255.0\n",
        "# Use the model to make a prediction\n",
        "preds = model.predict(x)\n",
        "print(preds.argmax(axis=-1))"
      ],
      "metadata": {
        "colab": {
          "base_uri": "https://localhost:8080/"
        },
        "id": "rBu736wl3C8g",
        "outputId": "f12d958f-cddc-41cf-be6a-426ec5a61dbe"
      },
      "execution_count": 10,
      "outputs": [
        {
          "output_type": "stream",
          "name": "stdout",
          "text": [
            "1/1 [==============================] - 1s 636ms/step\n",
            "[2]\n"
          ]
        }
      ]
    },
    {
      "cell_type": "markdown",
      "source": [
        "**Submitted By**\n",
        "\n",
        "---\n",
        "Aneetta Sara Shany - *MTech CSE Software Engineering*\n",
        "\n",
        "**Guide**\n",
        "\n",
        "---\n",
        "Dr. Shailesh Sivan"
      ],
      "metadata": {
        "id": "OsBtDZ1w_jfp"
      }
    }
  ]
}