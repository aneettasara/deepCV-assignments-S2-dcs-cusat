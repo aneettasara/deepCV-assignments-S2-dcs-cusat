{
  "nbformat": 4,
  "nbformat_minor": 0,
  "metadata": {
    "colab": {
      "provenance": []
    },
    "kernelspec": {
      "name": "python3",
      "display_name": "Python 3"
    },
    "language_info": {
      "name": "python"
    }
  },
  "cells": [
    {
      "cell_type": "code",
      "execution_count": null,
      "metadata": {
        "id": "YkGpHXe5q6bR"
      },
      "outputs": [],
      "source": [
        "from google.colab import drive\n",
        "drive.mount('/content/drive/')"
      ]
    },
    {
      "cell_type": "code",
      "source": [
        "import pandas as pd\n",
        "import numpy as np\n",
        "import cv2\n",
        "import matplotlib.pyplot as plt\n",
        "import os"
      ],
      "metadata": {
        "id": "E6GWgBlDrcyA"
      },
      "execution_count": null,
      "outputs": []
    },
    {
      "cell_type": "code",
      "source": [
        "def read_image(image):\n",
        "    apple = cv2.imread(RAW_IMAGES_FOLDER + image)\n",
        "    apple = cv2.cvtColor(apple, cv2.COLOR_BGR2RGB)\n",
        "    return cv2.resize(apple, (inpainting_size, inpainting_size), interpolation=cv2.INTER_CUBIC)\n",
        "\n",
        "def create_white_canvas():\n",
        "    white_canvas = np.zeros([canvas_size, canvas_size,3],dtype=np.uint8)\n",
        "    white_canvas.fill(255)\n",
        "    return white_canvas\n",
        "\n",
        "\n",
        "def select_quadrant_offset(quadrant):\n",
        "    if quadrant == 0:\n",
        "        apple_pos = (0, 0)\n",
        "    elif quadrant == 1:\n",
        "        apple_pos = (512, 0)\n",
        "    elif quadrant == 2:\n",
        "        apple_pos = (0, 512)\n",
        "    else:\n",
        "        apple_pos = (512, 512)\n",
        "    return apple_pos\n",
        "\n",
        "\n",
        "def draw_on_canvas_quadrant(image, quadrant, inpainting_size=256):\n",
        "    # border_offset = np.random.randint(0, 255)\n",
        "    border_offset = 255\n",
        "    canvas = create_white_canvas()\n",
        "    quadrant_offset_x, quadrant_offset_y= select_quadrant_offset(quadrant)\n",
        "\n",
        "    y_top, x_top = quadrant_offset_y + border_offset, quadrant_offset_y + border_offset + inpainting_size\n",
        "    y_bottom, x_bottom = quadrant_offset_x + border_offset, quadrant_offset_x + border_offset + inpainting_size\n",
        "\n",
        "    canvas[y_top:x_top, y_bottom:x_bottom] = image\n",
        "    return canvas\n",
        "\n",
        "def flip_image(image, direction):\n",
        "    return cv2.flip(image, direction)\n",
        "\n",
        "def rotate_image(image):\n",
        "    angle = np.random.randint(45, 270)\n",
        "    image_center = (128, 128)\n",
        "    rotation_matrix = cv2.getRotationMatrix2D(image_center, angle, 1.0)\n",
        "    return cv2.warpAffine(image, rotation_matrix, image.shape[1::-1], flags=cv2.INTER_LINEAR, borderMode=cv2.BORDER_CONSTANT, borderValue=(255, 255, 255))\n",
        "\n",
        "\n",
        "dataset_folders = ['top-left/', 'top-right/', 'bottom-left/', 'bottom-right/']\n",
        "\n",
        "DATASET_FOLDER = '/content/drive/MyDrive/cusat-dcs-files/sem-2/deeplearning-cv/assignment/Aneetta_DeepCV_Assignment_05_Apple_CNN_Classifier/custom-generated-apple-dataset/test'\n",
        "#DATASET_FOLDER = '/content/drive/MyDrive/cusat-dcs-files/sem-2/deeplearning-cv/assignment/Aneetta_DeepCV_Assignment_05_Apple_CNN_Classifier/custom-generated-apple-dataset/train'\n",
        "RAW_IMAGES_FOLDER = '/content/drive/MyDrive/cusat-dcs-files/sem-2/deeplearning-cv/assignment/Aneetta_DeepCV_Assignment_05_Apple_CNN_Classifier/original-apple-dataset/test'\n",
        "#RAW_IMAGES_FOLDER = '/content/drive/MyDrive/cusat-dcs-files/sem-2/deeplearning-cv/assignment/Aneetta_DeepCV_Assignment_05_Apple_CNN_Classifier/original-apple-dataset/train'\n",
        "\n",
        "canvas_size = 1024\n",
        "inpainting_size = 256\n",
        "\n",
        "for image in os.listdir(RAW_IMAGES_FOLDER):\n",
        "    apple = read_image(image)\n",
        "    for i in range(4):\n",
        "        canvas = draw_on_canvas_quadrant(apple, i)\n",
        "        image_path = DATASET_FOLDER + dataset_folders[i]+str(np.random.randint(300, 5000))+'.jpg'\n",
        "        cv2.imwrite(image_path, cv2.cvtColor(canvas, cv2.COLOR_RGB2BGR))\n",
        "\n",
        "\n",
        "    # Flipped Images\n",
        "    for j in range(-1, 2):\n",
        "        for i in range(4):\n",
        "            flipped = flip_image(apple, j)\n",
        "            canvas = draw_on_canvas_quadrant(flipped, i)\n",
        "            image_path = DATASET_FOLDER + dataset_folders[i]+str(np.random.randint(300, 5000))+'.jpg'\n",
        "            cv2.imwrite(image_path, cv2.cvtColor(canvas, cv2.COLOR_RGB2BGR))\n",
        "\n",
        "\n",
        "    # Rotated Images\n",
        "    for j in range(3):\n",
        "        for i in range(4):\n",
        "            rotated = rotate_image(apple)\n",
        "            canvas = draw_on_canvas_quadrant(flipped, i)\n",
        "            image_path = DATASET_FOLDER + dataset_folders[i]+str(np.random.randint(300, 5000))+'.jpg'\n",
        "            cv2.imwrite(image_path, cv2.cvtColor(canvas, cv2.COLOR_RGB2BGR))\n"
      ],
      "metadata": {
        "id": "n-YycVn4tfOl"
      },
      "execution_count": null,
      "outputs": []
    },
    {
      "cell_type": "markdown",
      "source": [
        "**Image Transformations/ Augmentations**"
      ],
      "metadata": {
        "id": "fiF8UP9U4epn"
      }
    },
    {
      "cell_type": "code",
      "source": [
        "count = '/content/drive/MyDrive/cusat-dcs-files/sem-2/deeplearning-cv/assignment/Aneetta_DeepCV_Assignment_05_Apple_CNN_Classifier/custom-generated-apple-dataset/train/top-left'\n",
        "print(len(os.listdir(count)))\n",
        "\n",
        "count = '/content/drive/MyDrive/cusat-dcs-files/sem-2/deeplearning-cv/assignment/Aneetta_DeepCV_Assignment_05_Apple_CNN_Classifier/custom-generated-apple-dataset/train/top-right'\n",
        "print(len(os.listdir(count)))\n",
        "\n",
        "count = '/content/drive/MyDrive/cusat-dcs-files/sem-2/deeplearning-cv/assignment/Aneetta_DeepCV_Assignment_05_Apple_CNN_Classifier/custom-generated-apple-dataset/train/bottom-left'\n",
        "print(len(os.listdir(count)))\n",
        "\n",
        "count = '/content/drive/MyDrive/cusat-dcs-files/sem-2/deeplearning-cv/assignment/Aneetta_DeepCV_Assignment_05_Apple_CNN_Classifier/custom-generated-apple-dataset/train/bottom-right'\n",
        "print(len(os.listdir(count)))\n",
        "print('\\n\\n')\n",
        "\n",
        "\n",
        "count = '/content/drive/MyDrive/cusat-dcs-files/sem-2/deeplearning-cv/assignment/Aneetta_DeepCV_Assignment_05_Apple_CNN_Classifier/custom-generated-apple-dataset/test/top-left'\n",
        "print(len(os.listdir(count)))\n",
        "\n",
        "count = '/content/drive/MyDrive/cusat-dcs-files/sem-2/deeplearning-cv/assignment/Aneetta_DeepCV_Assignment_05_Apple_CNN_Classifier/custom-generated-apple-dataset/test/top-right'\n",
        "print(len(os.listdir(count)))\n",
        "\n",
        "count = '/content/drive/MyDrive/cusat-dcs-files/sem-2/deeplearning-cv/assignment/Aneetta_DeepCV_Assignment_05_Apple_CNN_Classifier/custom-generated-apple-dataset/test/bottom-left'\n",
        "print(len(os.listdir(count)))\n",
        "\n",
        "count = '/content/drive/MyDrive/cusat-dcs-files/sem-2/deeplearning-cv/assignment/Aneetta_DeepCV_Assignment_05_Apple_CNN_Classifier/custom-generated-apple-dataset/test/bottom-right'\n",
        "print(len(os.listdir(count)))"
      ],
      "metadata": {
        "id": "SEgkpBZbEW99"
      },
      "execution_count": null,
      "outputs": []
    }
  ]
}