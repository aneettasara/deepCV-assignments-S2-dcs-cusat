{
  "cells": [
    {
      "cell_type": "markdown",
      "metadata": {
        "id": "3QIAE8YmrrrP"
      },
      "source": [
        "#Implement CNN for classifying an apple's image kept in any 1 of 4 quadrants."
      ]
    },
    {
      "cell_type": "code",
      "execution_count": 1,
      "metadata": {
        "colab": {
          "base_uri": "https://localhost:8080/"
        },
        "id": "1dqBwGVfrZep",
        "outputId": "14fe20c7-de58-44f9-82cc-926bfd45b10c"
      },
      "outputs": [
        {
          "output_type": "stream",
          "name": "stdout",
          "text": [
            "Mounted at /content/drive/\n"
          ]
        }
      ],
      "source": [
        "# To fetch Dataset\n",
        "from google.colab import drive\n",
        "drive.mount('/content/drive/')\n"
      ]
    },
    {
      "cell_type": "code",
      "execution_count": 2,
      "metadata": {
        "id": "lqBr9Z8PzFZa"
      },
      "outputs": [],
      "source": [
        "# Import required Libraries\n",
        "import tensorflow as tf\n",
        "from tensorflow.keras.preprocessing.image import ImageDataGenerator\n",
        "from tensorflow.keras.models import Sequential\n",
        "from tensorflow.keras.layers import Conv2D, MaxPool2D, Flatten, Dense, Dropout\n",
        "from tensorflow.keras.regularizers import l2\n"
      ]
    },
    {
      "cell_type": "code",
      "execution_count": 3,
      "metadata": {
        "id": "euNE-LgozVmr"
      },
      "outputs": [],
      "source": [
        "# Define Path\n",
        "train_dir = '/content/drive/MyDrive/cusat-dcs-files/sem-2/deeplearning-cv/assignment/Aneetta_DeepCV_Assignment_05_Apple_CNN_Classifier/custom-generated-apple-dataset/train'\n",
        "test_dir = '/content/drive/MyDrive/cusat-dcs-files/sem-2/deeplearning-cv/assignment/Aneetta_DeepCV_Assignment_05_Apple_CNN_Classifier/custom-generated-apple-dataset/test'\n",
        "\n",
        "# Number of samples processed before the model is trained\n",
        "batch_size = 32\n",
        "\n",
        "# Image Size for VGG16 model\n",
        "image_size = (224, 224)\n"
      ]
    },
    {
      "cell_type": "code",
      "execution_count": 4,
      "metadata": {
        "id": "C5ewklkT0IXL"
      },
      "outputs": [],
      "source": [
        "# Use ImageDataGenerator to augment the training data with random transformations\n",
        "train_datagen = ImageDataGenerator(\n",
        "    rescale=1./255,\n",
        "    rotation_range=20,\n",
        "    width_shift_range=0.2,\n",
        "    height_shift_range=0.2,\n",
        "    shear_range=0.2,\n",
        "    zoom_range=0.2,\n",
        "    fill_mode='nearest'\n",
        ")\n",
        "\n",
        "test_datagen = ImageDataGenerator(rescale=1./255)\n"
      ]
    },
    {
      "cell_type": "code",
      "execution_count": 5,
      "metadata": {
        "colab": {
          "base_uri": "https://localhost:8080/"
        },
        "id": "NMP_ONqw0nXF",
        "outputId": "31e66f19-c86e-4071-ba88-5b50f9bc9697"
      },
      "outputs": [
        {
          "output_type": "stream",
          "name": "stdout",
          "text": [
            "Found 732 images belonging to 4 classes.\n",
            "Found 84 images belonging to 4 classes.\n"
          ]
        }
      ],
      "source": [
        "# Load the training data and apply data augmentation\n",
        "train_data = train_datagen.flow_from_directory(\n",
        "    train_dir,\n",
        "    target_size=image_size,\n",
        "    batch_size=batch_size,\n",
        "    class_mode='categorical'\n",
        ")\n",
        "\n",
        "# Load the testing data (no data augmentation)\n",
        "test_data = test_datagen.flow_from_directory(\n",
        "    test_dir,\n",
        "    target_size=image_size,\n",
        "    batch_size=batch_size,\n",
        "    class_mode='categorical'\n",
        ")\n"
      ]
    },
    {
      "cell_type": "code",
      "execution_count": 6,
      "metadata": {
        "colab": {
          "base_uri": "https://localhost:8080/"
        },
        "id": "DuWCt9cL5Dc9",
        "outputId": "f0b553d9-5133-4a6c-c56d-c0baf7c10626"
      },
      "outputs": [
        {
          "output_type": "stream",
          "name": "stdout",
          "text": [
            "Epoch 1/20\n",
            "23/23 [==============================] - 174s 6s/step - loss: 1.4376 - accuracy: 0.2199 - val_loss: 1.4207 - val_accuracy: 0.2500\n",
            "Epoch 2/20\n",
            "23/23 [==============================] - 22s 877ms/step - loss: 1.4180 - accuracy: 0.2445 - val_loss: 1.4151 - val_accuracy: 0.2500\n",
            "Epoch 3/20\n",
            "23/23 [==============================] - 22s 887ms/step - loss: 1.4127 - accuracy: 0.2568 - val_loss: 1.4104 - val_accuracy: 0.2500\n",
            "Epoch 4/20\n",
            "23/23 [==============================] - 20s 753ms/step - loss: 1.4086 - accuracy: 0.2541 - val_loss: 1.4066 - val_accuracy: 0.2500\n",
            "Epoch 5/20\n",
            "23/23 [==============================] - 22s 794ms/step - loss: 1.4051 - accuracy: 0.2596 - val_loss: 1.4035 - val_accuracy: 0.2500\n",
            "Epoch 6/20\n",
            "23/23 [==============================] - 23s 879ms/step - loss: 1.4024 - accuracy: 0.2309 - val_loss: 1.4010 - val_accuracy: 0.2500\n",
            "Epoch 7/20\n",
            "23/23 [==============================] - 23s 879ms/step - loss: 1.3999 - accuracy: 0.2623 - val_loss: 1.3990 - val_accuracy: 0.2500\n",
            "Epoch 8/20\n",
            "23/23 [==============================] - 19s 738ms/step - loss: 1.3984 - accuracy: 0.2473 - val_loss: 1.3973 - val_accuracy: 0.2500\n",
            "Epoch 9/20\n",
            "23/23 [==============================] - 22s 878ms/step - loss: 1.3969 - accuracy: 0.2459 - val_loss: 1.3960 - val_accuracy: 0.2500\n",
            "Epoch 10/20\n",
            "23/23 [==============================] - 22s 877ms/step - loss: 1.3954 - accuracy: 0.2514 - val_loss: 1.3950 - val_accuracy: 0.2500\n",
            "Epoch 11/20\n",
            "23/23 [==============================] - 20s 822ms/step - loss: 1.3946 - accuracy: 0.2432 - val_loss: 1.3941 - val_accuracy: 0.2500\n",
            "Epoch 12/20\n",
            "23/23 [==============================] - 24s 878ms/step - loss: 1.3934 - accuracy: 0.2650 - val_loss: 1.3933 - val_accuracy: 0.2500\n",
            "Epoch 13/20\n",
            "23/23 [==============================] - 22s 740ms/step - loss: 1.3927 - accuracy: 0.2760 - val_loss: 1.3927 - val_accuracy: 0.2500\n",
            "Epoch 14/20\n",
            "23/23 [==============================] - 24s 893ms/step - loss: 1.3928 - accuracy: 0.2418 - val_loss: 1.3921 - val_accuracy: 0.2500\n",
            "Epoch 15/20\n",
            "23/23 [==============================] - 22s 891ms/step - loss: 1.3912 - accuracy: 0.2732 - val_loss: 1.3917 - val_accuracy: 0.2500\n",
            "Epoch 16/20\n",
            "23/23 [==============================] - 23s 890ms/step - loss: 1.3920 - accuracy: 0.2336 - val_loss: 1.3912 - val_accuracy: 0.2500\n",
            "Epoch 17/20\n",
            "23/23 [==============================] - 21s 799ms/step - loss: 1.3913 - accuracy: 0.2555 - val_loss: 1.3909 - val_accuracy: 0.2500\n",
            "Epoch 18/20\n",
            "23/23 [==============================] - 21s 747ms/step - loss: 1.3907 - accuracy: 0.2473 - val_loss: 1.3906 - val_accuracy: 0.2500\n",
            "Epoch 19/20\n",
            "23/23 [==============================] - 22s 888ms/step - loss: 1.3902 - accuracy: 0.2527 - val_loss: 1.3903 - val_accuracy: 0.2500\n",
            "Epoch 20/20\n",
            "23/23 [==============================] - 22s 897ms/step - loss: 1.3905 - accuracy: 0.2418 - val_loss: 1.3900 - val_accuracy: 0.2500\n"
          ]
        }
      ],
      "source": [
        "# Define the model architecture\n",
        "model = Sequential()\n",
        "\n",
        "model.add(Conv2D(32, (3, 3), input_shape=(224, 224, 3), padding='same', activation='relu'))\n",
        "model.add(Conv2D(32, (3, 3), padding='same', activation='relu'))\n",
        "model.add(MaxPool2D(pool_size=(2, 2), strides=(2, 2)))\n",
        "\n",
        "model.add(Conv2D(64, (3, 3), padding='same', activation='relu'))\n",
        "model.add(Conv2D(64, (3, 3), padding='same', activation='relu'))\n",
        "model.add(MaxPool2D(pool_size=(2, 2), strides=(2, 2)))\n",
        "\n",
        "model.add(Conv2D(128, (3, 3), padding='same', activation='relu'))\n",
        "model.add(Conv2D(128, (3, 3), padding='same', activation='relu'))\n",
        "model.add(MaxPool2D(pool_size=(2, 2), strides=(2, 2)))\n",
        "\n",
        "model.add(Conv2D(256, (3, 3), padding='same', activation='relu'))\n",
        "model.add(Conv2D(256, (3, 3), padding='same', activation='relu'))\n",
        "model.add(MaxPool2D(pool_size=(2, 2), strides=(2, 2)))\n",
        "\n",
        "model.add(Flatten())\n",
        "model.add(Dense(units=64, activation='relu'))\n",
        "model.add(Dropout(0.5))  # Adding dropout regularization\n",
        "model.add(Dense(units=32, activation='relu', kernel_regularizer=l2(0.001)))  # Adding L2 regularization\n",
        "model.add(Dropout(0.5))\n",
        "model.add(Dense(units=4, activation='softmax'))\n",
        "\n",
        "# Compile the model with categorical crossentropy loss and Adam optimizer\n",
        "model.compile(loss='categorical_crossentropy', optimizer='adam', metrics=['accuracy'])\n",
        "\n",
        "# Train the model\n",
        "history = model.fit(train_data, epochs=20, validation_data=test_data, workers=4)\n"
      ]
    },
    {
      "cell_type": "code",
      "execution_count": 7,
      "metadata": {
        "id": "i1nybgkuv_3P",
        "colab": {
          "base_uri": "https://localhost:8080/"
        },
        "outputId": "94d15a6c-87d4-446c-a3cc-149bb18c74e0"
      },
      "outputs": [
        {
          "output_type": "stream",
          "name": "stdout",
          "text": [
            "3/3 [==============================] - 1s 307ms/step - loss: 1.3900 - accuracy: 0.2500\n",
            "Test accuracy: 0.25\n"
          ]
        }
      ],
      "source": [
        "\n",
        "# Evaluate the trained model on the testing data\n",
        "test_loss, test_acc = model.evaluate(test_data)\n",
        "print('Test accuracy:', test_acc)"
      ]
    },
    {
      "cell_type": "code",
      "execution_count": 8,
      "metadata": {
        "id": "Ih4PMnBGwAa5",
        "colab": {
          "base_uri": "https://localhost:8080/",
          "height": 472
        },
        "outputId": "d29b81b3-61a4-4557-962b-b463f7f8b791"
      },
      "outputs": [
        {
          "output_type": "display_data",
          "data": {
            "text/plain": [
              "<Figure size 640x480 with 1 Axes>"
            ],
            "image/png": "[encoded data removed]"
          },
          "metadata": {}
        }
      ],
      "source": [
        "\n",
        "# Plot the training and validation accuracy as a line\n",
        "import matplotlib.pyplot as plt\n",
        "\n",
        "training_accuracy = history.history['accuracy']\n",
        "validation_accuracy = history.history['val_accuracy']\n",
        "\n",
        "epochs = range(1, len(training_accuracy) + 1)\n",
        "plt.plot(epochs, training_accuracy, 'bo-', label='Training accuracy')\n",
        "plt.plot(epochs, validation_accuracy, 'b-', label='Validation accuracy')\n",
        "plt.title('Training and validation accuracy')\n",
        "plt.xlabel('Epochs')\n",
        "plt.ylabel('Accuracy')\n",
        "plt.legend()\n",
        "plt.show()"
      ]
    },
    {
      "cell_type": "markdown",
      "metadata": {
        "id": "NNTC1a68wLiz"
      },
      "source": [
        "Model Testing on unseen data"
      ]
    },
    {
      "cell_type": "code",
      "execution_count": 9,
      "metadata": {
        "id": "87SUxV7iwIdp",
        "colab": {
          "base_uri": "https://localhost:8080/"
        },
        "outputId": "419c8cb8-d099-4534-89e4-3d052010c82f"
      },
      "outputs": [
        {
          "output_type": "execute_result",
          "data": {
            "text/plain": [
              "{'bottom-left': 0, 'bottom-right': 1, 'top-left': 2, 'top-right': 3}"
            ]
          },
          "metadata": {},
          "execution_count": 9
        }
      ],
      "source": [
        "\n",
        "# Classes of Apples in quadrants \n",
        "train_data.class_indices"
      ]
    },
    {
      "cell_type": "code",
      "execution_count": 10,
      "metadata": {
        "id": "iY4p98NjwOt6",
        "colab": {
          "base_uri": "https://localhost:8080/"
        },
        "outputId": "84882050-f32f-49e3-bf2f-d2342c538196"
      },
      "outputs": [
        {
          "output_type": "stream",
          "name": "stdout",
          "text": [
            "1/1 [==============================] - 0s 451ms/step\n",
            "[2]\n"
          ]
        }
      ],
      "source": [
        "import numpy as np\n",
        "from tensorflow.keras.preprocessing.image import load_img, img_to_array\n",
        "\n",
        "img_path = '/content/drive/MyDrive/cusat-dcs-files/sem-2/deeplearning-cv/assignment/Aneetta_DeepCV_Assignment_05_Apple_CNN_Classifier/custom-generated-apple-dataset/unseen-data.png'\n",
        "img = load_img(img_path, target_size=(224, 224))\n",
        "x = img_to_array(img)\n",
        "x = np.expand_dims(x, axis=0)\n",
        "x = x / 255.0\n",
        "# Use the model to make a prediction\n",
        "preds = model.predict(x)\n",
        "print(preds.argmax(axis=-1))"
      ]
    },
    {
      "cell_type": "markdown",
      "metadata": {
        "id": "-jcbBqpKwsS4"
      },
      "source": [
        "**Submitted By**\n",
        "\n",
        "---\n",
        "Aneetta Sara Shany - *MTech CSE Software Engineering*\n",
        "\n",
        "**Guide**\n",
        "\n",
        "---\n",
        "Dr. Shailesh Sivan"
      ]
    }
  ],
  "metadata": {
    "accelerator": "GPU",
    "colab": {
      "provenance": [],
      "gpuType": "T4"
    },
    "gpuClass": "standard",
    "kernelspec": {
      "display_name": "Python 3",
      "name": "python3"
    },
    "language_info": {
      "name": "python"
    }
  },
  "nbformat": 4,
  "nbformat_minor": 0
}